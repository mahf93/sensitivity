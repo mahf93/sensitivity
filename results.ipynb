{
 "cells": [
  {
   "cell_type": "markdown",
   "metadata": {},
   "source": [
    "# This is a notebook to plot the results of the paper"
   ]
  },
  {
   "cell_type": "code",
   "execution_count": null,
   "metadata": {},
   "outputs": [],
   "source": [
    "import matplotlib.pyplot as plt\n",
    "import numpy as np\n",
    "from scipy.stats import pearsonr\n",
    "import pickle\n",
    "from experiments import Results"
   ]
  },
  {
   "cell_type": "markdown",
   "metadata": {},
   "source": [
    "## load saved results"
   ]
  },
  {
   "cell_type": "code",
   "execution_count": null,
   "metadata": {},
   "outputs": [],
   "source": [
    "# modify this list to the list of files that the results have been saved on\n",
    "List_of_files = ['temp.pkl', 'temp2.pkl', 'temp3.pkl']\n",
    "\n",
    "vLosses = []\n",
    "Sen = []\n",
    "Sen_std = []\n",
    "for fl in List_of_files:\n",
    "    with open(fl, 'rb') as input:\n",
    "        rst1 = pickle.load(input)\n",
    "        vLosses.append(rst1.vlossavg)\n",
    "        Sen.append(rst1.senavg)\n",
    "        Sen_std.append(rst1.senstd)\n",
    "        "
   ]
  },
  {
   "cell_type": "markdown",
   "metadata": {},
   "source": [
    "## loss vs sen"
   ]
  },
  {
   "cell_type": "code",
   "execution_count": null,
   "metadata": {},
   "outputs": [],
   "source": [
    "fig = plt.figure(figsize=[15,18])\n",
    "\n",
    "p0, = plt.plot(np.log(Sen), np.log(vLosses), 'b.')\n",
    "\n",
    "\n",
    "sen = np.exp(np.arange(15, 25, 1))\n",
    "\n",
    "## modify these values accordingly: this works for the example presented in the readme\n",
    "k = 10.0 \n",
    "e_x = 0.2648\n",
    "e_e = np.power(0.1, 2)\n",
    "c = e_x / e_e\n",
    "var = sen*c \n",
    "mse = np.power((k-1)/k,1) *var\n",
    "ce = np.sqrt(mse/2)\n",
    "\n",
    "t1, = plt.plot(np.log(sen), np.log(ce), label='Equation (9)')\n",
    "\n",
    "plt.legend(handles=[p0,t1], prop={'size': 14})\n",
    "\n",
    "plt.xlabel(r'$\\log(S_{after})$', fontsize=14)\n",
    "plt.ylabel(r'$\\log(L)$', fontsize=14)\n",
    "\n",
    "plt.xticks(fontsize=14)\n",
    "plt.yticks(fontsize=14)\n",
    "\n",
    "\n",
    "plt.show()\n",
    "# fig.savefig('loss.png')"
   ]
  },
  {
   "cell_type": "code",
   "execution_count": null,
   "metadata": {},
   "outputs": [],
   "source": []
  }
 ],
 "metadata": {
  "kernelspec": {
   "display_name": "Python 3",
   "language": "python",
   "name": "python3"
  },
  "language_info": {
   "codemirror_mode": {
    "name": "ipython",
    "version": 3
   },
   "file_extension": ".py",
   "mimetype": "text/x-python",
   "name": "python",
   "nbconvert_exporter": "python",
   "pygments_lexer": "ipython3",
   "version": "3.7.0"
  }
 },
 "nbformat": 4,
 "nbformat_minor": 2
}
